{
 "cells": [
  {
   "cell_type": "markdown",
   "id": "238d2f0d-7280-4a62-90c1-b98c05cd07ca",
   "metadata": {},
   "source": [
    "# CSGO Round Snapshot Models #\n",
    "#### In this notebook I will be running RF,DT,LR,GBM,kNN, and SVM models, gathering their performance metrics and compiling them into one graphic to select the best model. ####\n",
    "### File I/O, Importing Packages and Data Cleaning ###"
   ]
  },
  {
   "cell_type": "code",
   "execution_count": 24,
   "id": "189d7ddf-ec8a-4255-8db6-8348fa2a612d",
   "metadata": {},
   "outputs": [
    {
     "data": {
      "text/html": [
       "<div>\n",
       "<style scoped>\n",
       "    .dataframe tbody tr th:only-of-type {\n",
       "        vertical-align: middle;\n",
       "    }\n",
       "\n",
       "    .dataframe tbody tr th {\n",
       "        vertical-align: top;\n",
       "    }\n",
       "\n",
       "    .dataframe thead th {\n",
       "        text-align: right;\n",
       "    }\n",
       "</style>\n",
       "<table border=\"1\" class=\"dataframe\">\n",
       "  <thead>\n",
       "    <tr style=\"text-align: right;\">\n",
       "      <th></th>\n",
       "      <th>time_left</th>\n",
       "      <th>ct_score</th>\n",
       "      <th>t_score</th>\n",
       "      <th>map</th>\n",
       "      <th>bomb_planted</th>\n",
       "      <th>ct_health</th>\n",
       "      <th>t_health</th>\n",
       "      <th>ct_armor</th>\n",
       "      <th>t_armor</th>\n",
       "      <th>ct_money</th>\n",
       "      <th>...</th>\n",
       "      <th>t_grenade_flashbang</th>\n",
       "      <th>ct_grenade_smokegrenade</th>\n",
       "      <th>t_grenade_smokegrenade</th>\n",
       "      <th>ct_grenade_incendiarygrenade</th>\n",
       "      <th>t_grenade_incendiarygrenade</th>\n",
       "      <th>ct_grenade_molotovgrenade</th>\n",
       "      <th>t_grenade_molotovgrenade</th>\n",
       "      <th>ct_grenade_decoygrenade</th>\n",
       "      <th>t_grenade_decoygrenade</th>\n",
       "      <th>round_winner</th>\n",
       "    </tr>\n",
       "  </thead>\n",
       "  <tbody>\n",
       "    <tr>\n",
       "      <th>0</th>\n",
       "      <td>175.00</td>\n",
       "      <td>0.0</td>\n",
       "      <td>0.0</td>\n",
       "      <td>de_dust2</td>\n",
       "      <td>False</td>\n",
       "      <td>500.0</td>\n",
       "      <td>500.0</td>\n",
       "      <td>0.0</td>\n",
       "      <td>0.0</td>\n",
       "      <td>4000.0</td>\n",
       "      <td>...</td>\n",
       "      <td>0.0</td>\n",
       "      <td>0.0</td>\n",
       "      <td>0.0</td>\n",
       "      <td>0.0</td>\n",
       "      <td>0.0</td>\n",
       "      <td>0.0</td>\n",
       "      <td>0.0</td>\n",
       "      <td>0.0</td>\n",
       "      <td>0.0</td>\n",
       "      <td>CT</td>\n",
       "    </tr>\n",
       "    <tr>\n",
       "      <th>1</th>\n",
       "      <td>156.03</td>\n",
       "      <td>0.0</td>\n",
       "      <td>0.0</td>\n",
       "      <td>de_dust2</td>\n",
       "      <td>False</td>\n",
       "      <td>500.0</td>\n",
       "      <td>500.0</td>\n",
       "      <td>400.0</td>\n",
       "      <td>300.0</td>\n",
       "      <td>600.0</td>\n",
       "      <td>...</td>\n",
       "      <td>0.0</td>\n",
       "      <td>0.0</td>\n",
       "      <td>2.0</td>\n",
       "      <td>0.0</td>\n",
       "      <td>0.0</td>\n",
       "      <td>0.0</td>\n",
       "      <td>0.0</td>\n",
       "      <td>0.0</td>\n",
       "      <td>0.0</td>\n",
       "      <td>CT</td>\n",
       "    </tr>\n",
       "    <tr>\n",
       "      <th>2</th>\n",
       "      <td>96.03</td>\n",
       "      <td>0.0</td>\n",
       "      <td>0.0</td>\n",
       "      <td>de_dust2</td>\n",
       "      <td>False</td>\n",
       "      <td>391.0</td>\n",
       "      <td>400.0</td>\n",
       "      <td>294.0</td>\n",
       "      <td>200.0</td>\n",
       "      <td>750.0</td>\n",
       "      <td>...</td>\n",
       "      <td>0.0</td>\n",
       "      <td>0.0</td>\n",
       "      <td>2.0</td>\n",
       "      <td>0.0</td>\n",
       "      <td>0.0</td>\n",
       "      <td>0.0</td>\n",
       "      <td>0.0</td>\n",
       "      <td>0.0</td>\n",
       "      <td>0.0</td>\n",
       "      <td>CT</td>\n",
       "    </tr>\n",
       "    <tr>\n",
       "      <th>3</th>\n",
       "      <td>76.03</td>\n",
       "      <td>0.0</td>\n",
       "      <td>0.0</td>\n",
       "      <td>de_dust2</td>\n",
       "      <td>False</td>\n",
       "      <td>391.0</td>\n",
       "      <td>400.0</td>\n",
       "      <td>294.0</td>\n",
       "      <td>200.0</td>\n",
       "      <td>750.0</td>\n",
       "      <td>...</td>\n",
       "      <td>0.0</td>\n",
       "      <td>0.0</td>\n",
       "      <td>0.0</td>\n",
       "      <td>0.0</td>\n",
       "      <td>0.0</td>\n",
       "      <td>0.0</td>\n",
       "      <td>0.0</td>\n",
       "      <td>0.0</td>\n",
       "      <td>0.0</td>\n",
       "      <td>CT</td>\n",
       "    </tr>\n",
       "    <tr>\n",
       "      <th>4</th>\n",
       "      <td>174.97</td>\n",
       "      <td>1.0</td>\n",
       "      <td>0.0</td>\n",
       "      <td>de_dust2</td>\n",
       "      <td>False</td>\n",
       "      <td>500.0</td>\n",
       "      <td>500.0</td>\n",
       "      <td>192.0</td>\n",
       "      <td>0.0</td>\n",
       "      <td>18350.0</td>\n",
       "      <td>...</td>\n",
       "      <td>0.0</td>\n",
       "      <td>0.0</td>\n",
       "      <td>0.0</td>\n",
       "      <td>0.0</td>\n",
       "      <td>0.0</td>\n",
       "      <td>0.0</td>\n",
       "      <td>0.0</td>\n",
       "      <td>0.0</td>\n",
       "      <td>0.0</td>\n",
       "      <td>CT</td>\n",
       "    </tr>\n",
       "  </tbody>\n",
       "</table>\n",
       "<p>5 rows × 97 columns</p>\n",
       "</div>"
      ],
      "text/plain": [
       "   time_left  ct_score  t_score       map  bomb_planted  ct_health  t_health  \\\n",
       "0     175.00       0.0      0.0  de_dust2         False      500.0     500.0   \n",
       "1     156.03       0.0      0.0  de_dust2         False      500.0     500.0   \n",
       "2      96.03       0.0      0.0  de_dust2         False      391.0     400.0   \n",
       "3      76.03       0.0      0.0  de_dust2         False      391.0     400.0   \n",
       "4     174.97       1.0      0.0  de_dust2         False      500.0     500.0   \n",
       "\n",
       "   ct_armor  t_armor  ct_money  ...  t_grenade_flashbang  \\\n",
       "0       0.0      0.0    4000.0  ...                  0.0   \n",
       "1     400.0    300.0     600.0  ...                  0.0   \n",
       "2     294.0    200.0     750.0  ...                  0.0   \n",
       "3     294.0    200.0     750.0  ...                  0.0   \n",
       "4     192.0      0.0   18350.0  ...                  0.0   \n",
       "\n",
       "   ct_grenade_smokegrenade  t_grenade_smokegrenade  \\\n",
       "0                      0.0                     0.0   \n",
       "1                      0.0                     2.0   \n",
       "2                      0.0                     2.0   \n",
       "3                      0.0                     0.0   \n",
       "4                      0.0                     0.0   \n",
       "\n",
       "   ct_grenade_incendiarygrenade  t_grenade_incendiarygrenade  \\\n",
       "0                           0.0                          0.0   \n",
       "1                           0.0                          0.0   \n",
       "2                           0.0                          0.0   \n",
       "3                           0.0                          0.0   \n",
       "4                           0.0                          0.0   \n",
       "\n",
       "   ct_grenade_molotovgrenade  t_grenade_molotovgrenade  \\\n",
       "0                        0.0                       0.0   \n",
       "1                        0.0                       0.0   \n",
       "2                        0.0                       0.0   \n",
       "3                        0.0                       0.0   \n",
       "4                        0.0                       0.0   \n",
       "\n",
       "   ct_grenade_decoygrenade  t_grenade_decoygrenade  round_winner  \n",
       "0                      0.0                     0.0            CT  \n",
       "1                      0.0                     0.0            CT  \n",
       "2                      0.0                     0.0            CT  \n",
       "3                      0.0                     0.0            CT  \n",
       "4                      0.0                     0.0            CT  \n",
       "\n",
       "[5 rows x 97 columns]"
      ]
     },
     "execution_count": 24,
     "metadata": {},
     "output_type": "execute_result"
    }
   ],
   "source": [
    "# Helper packages.\n",
    "import os\n",
    "import pickle\n",
    "import pandas as pd\n",
    "import matplotlib.pyplot as plt                     \n",
    "import numpy as np\n",
    "import math\n",
    "# Scikit-learn packages for building models and model evaluation.\n",
    "from sklearn.model_selection import train_test_split\n",
    "from sklearn import linear_model\n",
    "from sklearn.ensemble import RandomForestClassifier\n",
    "from sklearn.ensemble import GradientBoostingClassifier\n",
    "from sklearn.model_selection import RandomizedSearchCV\n",
    "from sklearn import metrics\n",
    "from sklearn.preprocessing import scale,StandardScaler\n",
    "from sklearn import preprocessing\n",
    "from sklearn import tree\n",
    "from sklearn.tree import DecisionTreeClassifier\n",
    "from sklearn.neighbors import KNeighborsClassifier\n",
    "from sklearn.model_selection import cross_val_score\n",
    "from sklearn.metrics import accuracy_score, classification_report, confusion_matrix\n",
    "from textwrap import wrap\n",
    "\n",
    "np.random.seed(1)\n",
    "rounds = pd.read_csv(\"C:/Users/cokeo/OneDrive/Documents/csgo_round_snapshots.csv\")\n",
    "rounds.head()"
   ]
  },
  {
   "cell_type": "code",
   "execution_count": 25,
   "id": "eb7be98c-017c-4173-81a4-75eae5ce2594",
   "metadata": {},
   "outputs": [
    {
     "data": {
      "text/plain": [
       "(122410, 97)"
      ]
     },
     "execution_count": 25,
     "metadata": {},
     "output_type": "execute_result"
    }
   ],
   "source": [
    "rounds.shape"
   ]
  },
  {
   "cell_type": "code",
   "execution_count": 26,
   "id": "f40e28e8-3287-4eb2-b5ac-6762eb12869a",
   "metadata": {},
   "outputs": [
    {
     "name": "stdout",
     "output_type": "stream",
     "text": [
      "time_left                    0\n",
      "ct_score                     0\n",
      "t_score                      0\n",
      "map                          0\n",
      "bomb_planted                 0\n",
      "                            ..\n",
      "ct_grenade_molotovgrenade    0\n",
      "t_grenade_molotovgrenade     0\n",
      "ct_grenade_decoygrenade      0\n",
      "t_grenade_decoygrenade       0\n",
      "round_winner                 0\n",
      "Length: 97, dtype: int64\n"
     ]
    }
   ],
   "source": [
    "# Convert CT/T Round Wins  to 0/1 values\n",
    "rounds['round_winner'] = np.where(rounds['round_winner'] == 'CT',0,1 )\n",
    "# Check for NAs.\n",
    "print(rounds.isnull().sum())"
   ]
  },
  {
   "cell_type": "code",
   "execution_count": 27,
   "id": "ff5efd37-4769-4733-b393-e13fb114a741",
   "metadata": {},
   "outputs": [],
   "source": [
    "# Select the predictors and target.\n",
    "#Encoded the maps as dummy variables\n",
    "X = rounds.drop(['round_winner',], axis = 1)\n",
    "X = pd.get_dummies(X, columns = ['map'], dtype=float, drop_first=True)\n",
    "y = np.array(rounds['round_winner'])\n",
    "# Set the seed to 1.\n",
    "np.random.seed(1)\n",
    "# Split into training and test sets.\n",
    "X_train, X_test, y_train, y_test = train_test_split(X, y, test_size = 0.3)\n"
   ]
  },
  {
   "cell_type": "code",
   "execution_count": 28,
   "id": "0700178a-7c39-44a5-ac57-608929e234ab",
   "metadata": {},
   "outputs": [],
   "source": [
    "def get_performance_scores(y_test, y_predict, y_predict_prob, eps=1e-15, beta=0.5):\n",
    "    from sklearn import metrics\n",
    "    # Scores keys.\n",
    "    metric_keys = [\"accuracy\", \"precision\", \"recall\", \"f1\", \"fbeta\", \"log_loss\", \"AUC\"]\n",
    "    # Score values.\n",
    "    metric_values = [None]*len(metric_keys)\n",
    "    metric_values[0] = metrics.accuracy_score(y_test, y_predict)\n",
    "    metric_values[1] = metrics.precision_score(y_test, y_predict)\n",
    "    metric_values[2] = metrics.recall_score(y_test, y_predict)\n",
    "    metric_values[3] = metrics.f1_score(y_test, y_predict)\n",
    "    metric_values[4] = metrics.fbeta_score(y_test, y_predict, beta=beta)\n",
    "    metric_values[5] = metrics.log_loss(y_test, y_predict_prob[:, 1], eps=eps)\n",
    "    metric_values[6] = metrics.roc_auc_score(y_test, y_predict_prob[:, 1])\n",
    "    perf_metrics = dict(zip(metric_keys, metric_values))\n",
    "    return(perf_metrics)"
   ]
  },
  {
   "cell_type": "markdown",
   "id": "f1b6a1e6-a731-402a-b612-5efdc34d1546",
   "metadata": {},
   "source": [
    "### Random Forest ###"
   ]
  },
  {
   "cell_type": "code",
   "execution_count": 29,
   "id": "1bcab42a-4da6-4602-8412-f0b5e9030f60",
   "metadata": {},
   "outputs": [
    {
     "data": {
      "text/plain": [
       "RandomForestClassifier(random_state=1)"
      ]
     },
     "execution_count": 29,
     "metadata": {},
     "output_type": "execute_result"
    }
   ],
   "source": [
    "forest = RandomForestClassifier(criterion = 'gini', n_estimators = 100, \n",
    "                                  random_state = 1)\n",
    "forest.fit(X_train, y_train)"
   ]
  },
  {
   "cell_type": "code",
   "execution_count": 30,
   "id": "abb5e5b5-3eab-4d6b-acb7-47c2b1ee2a31",
   "metadata": {},
   "outputs": [
    {
     "name": "stdout",
     "output_type": "stream",
     "text": [
      "[1 0 1 0 1]\n"
     ]
    }
   ],
   "source": [
    "# Predict on test data.\n",
    "forest_y_predict = forest.predict(X_test)\n",
    "# Look at the first few predictions.\n",
    "print(forest_y_predict[0:5, ])"
   ]
  },
  {
   "cell_type": "code",
   "execution_count": 31,
   "id": "6331103d-bb3c-439b-80b1-f5643395e0bd",
   "metadata": {},
   "outputs": [
    {
     "name": "stdout",
     "output_type": "stream",
     "text": [
      "[[0.44 0.56]\n",
      " [0.94 0.06]\n",
      " [0.6  0.4 ]\n",
      " ...\n",
      " [0.46 0.54]\n",
      " [0.96 0.04]\n",
      " [0.01 0.99]]\n"
     ]
    }
   ],
   "source": [
    "# Predict on test, but instead of labels we will get probabilities for class 0 and 1.\n",
    "forest_y_predict_prob = forest.predict_proba(X_test) \n",
    "print(forest_y_predict_prob[5:])"
   ]
  },
  {
   "cell_type": "code",
   "execution_count": 32,
   "id": "ce470525-2d80-435c-91fc-82c74644908c",
   "metadata": {},
   "outputs": [],
   "source": [
    "forest_scores = get_performance_scores(y_test, forest_y_predict, forest_y_predict_prob)\n",
    "metrics_forest = {\"RF\": forest_scores}"
   ]
  },
  {
   "cell_type": "markdown",
   "id": "0d288ccd-2eee-4402-abd5-f10ff3e32386",
   "metadata": {},
   "source": [
    "### Logistic Regression ###"
   ]
  },
  {
   "cell_type": "code",
   "execution_count": 33,
   "id": "b11ed4fa-1cc1-40a6-a053-be9c6ba03276",
   "metadata": {},
   "outputs": [
    {
     "name": "stdout",
     "output_type": "stream",
     "text": [
      "LogisticRegression(max_iter=500)\n",
      "[1 0 1 0 1]\n"
     ]
    }
   ],
   "source": [
    "# Scale the features.\n",
    "scaler = preprocessing.MinMaxScaler()\n",
    "scaler.fit(X_train)\n",
    "X_train_scaled = scaler.transform(X_train)\n",
    "X_test_scaled = scaler.transform(X_test)\n",
    "\n",
    "# Set up logistic regression model.\n",
    "logistic_regression_model = linear_model.LogisticRegression(max_iter=500)\n",
    "print(logistic_regression_model)  \n",
    "# Fit the model.\n",
    "logistic_regression_model.fit(X_train_scaled, \n",
    "                              y_train)\n",
    "# Predict on test data.\n",
    "predicted_values = logistic_regression_model.predict(X_test_scaled)\n",
    "print(predicted_values[:5])              "
   ]
  },
  {
   "cell_type": "code",
   "execution_count": 34,
   "id": "b5478ebb-6518-4463-ae18-339f9a43b5f5",
   "metadata": {},
   "outputs": [],
   "source": [
    "LR_y_predict_prob = logistic_regression_model.predict_proba(X_test_scaled) \n",
    "LR_scores = get_performance_scores(y_test, predicted_values, LR_y_predict_prob)\n",
    "metrics_forest.update({\"LR\": LR_scores})"
   ]
  },
  {
   "cell_type": "markdown",
   "id": "3f49cba8-408e-413d-93dc-65e6c2304671",
   "metadata": {},
   "source": [
    " ### Gradient Boosted Model ###"
   ]
  },
  {
   "cell_type": "code",
   "execution_count": 35,
   "id": "739b39ac-294b-46c0-afad-5162f7833067",
   "metadata": {},
   "outputs": [],
   "source": [
    "gbm = GradientBoostingClassifier()\n",
    "gbm.fit(X_train, y_train)\n",
    "\n",
    "gbm_y_predict = gbm.predict(X_test)\n",
    "gbm_y_predict_proba = gbm.predict_proba(X_test)\n",
    "gbm_scores= get_performance_scores(y_test, gbm_y_predict, gbm_y_predict_proba)"
   ]
  },
  {
   "cell_type": "code",
   "execution_count": 36,
   "id": "a12edf30-bb8e-4315-a86d-05f7b245859b",
   "metadata": {},
   "outputs": [
    {
     "data": {
      "text/plain": [
       "{'RF': {'accuracy': 0.8707077308498761,\n",
       "  'precision': 0.8837222099933965,\n",
       "  'recall': 0.8590456831068792,\n",
       "  'f1': 0.8712092442901318,\n",
       "  'fbeta': 0.878674137138605,\n",
       "  'log_loss': 0.32595207700271234,\n",
       "  'AUC': 0.9453596399315363},\n",
       " 'LR': {'accuracy': 0.7513819677041637,\n",
       "  'precision': 0.7603724273113361,\n",
       "  'recall': 0.747031132983845,\n",
       "  'f1': 0.7536427415002699,\n",
       "  'fbeta': 0.7576661819917966,\n",
       "  'log_loss': 0.47229902673104324,\n",
       "  'AUC': 0.8487367641222184},\n",
       " 'GBM': {'accuracy': 0.758407537510552,\n",
       "  'precision': 0.7841684990163176,\n",
       "  'recall': 0.7249384829357013,\n",
       "  'f1': 0.7533911496553257,\n",
       "  'fbeta': 0.7715606567830384,\n",
       "  'log_loss': 0.4487749585480734,\n",
       "  'AUC': 0.8614323019622054}}"
      ]
     },
     "execution_count": 36,
     "metadata": {},
     "output_type": "execute_result"
    }
   ],
   "source": [
    "metrics_forest.update({\"GBM\": gbm_scores})\n",
    "metrics_forest"
   ]
  },
  {
   "cell_type": "markdown",
   "id": "2eae8aa2-6df4-404c-8ee2-693d2caccf5b",
   "metadata": {},
   "source": [
    "### Decision Tree ###"
   ]
  },
  {
   "cell_type": "code",
   "execution_count": 37,
   "id": "9c49233f-e3a5-4fa6-80e7-a79f3ad11864",
   "metadata": {},
   "outputs": [],
   "source": [
    "dt = tree.DecisionTreeClassifier()\n",
    "dt_fit = dt.fit(X_train, y_train)# Predict on ex_X_test.\n",
    "\n",
    "dt_y_predict = dt_fit.predict(X_test)\n",
    "dt_y_predict[:5]\n",
    "\n",
    "dt_y_predict_proba = dt.predict_proba(X_test)"
   ]
  },
  {
   "cell_type": "code",
   "execution_count": 38,
   "id": "1218fd26-1039-4552-8dea-7db1bf58a89f",
   "metadata": {},
   "outputs": [
    {
     "data": {
      "text/plain": [
       "{'RF': {'accuracy': 0.8707077308498761,\n",
       "  'precision': 0.8837222099933965,\n",
       "  'recall': 0.8590456831068792,\n",
       "  'f1': 0.8712092442901318,\n",
       "  'fbeta': 0.878674137138605,\n",
       "  'log_loss': 0.32595207700271234,\n",
       "  'AUC': 0.9453596399315363},\n",
       " 'LR': {'accuracy': 0.7513819677041637,\n",
       "  'precision': 0.7603724273113361,\n",
       "  'recall': 0.747031132983845,\n",
       "  'f1': 0.7536427415002699,\n",
       "  'fbeta': 0.7576661819917966,\n",
       "  'log_loss': 0.47229902673104324,\n",
       "  'AUC': 0.8487367641222184},\n",
       " 'GBM': {'accuracy': 0.758407537510552,\n",
       "  'precision': 0.7841684990163176,\n",
       "  'recall': 0.7249384829357013,\n",
       "  'f1': 0.7533911496553257,\n",
       "  'fbeta': 0.7715606567830384,\n",
       "  'log_loss': 0.4487749585480734,\n",
       "  'AUC': 0.8614323019622054},\n",
       " 'DT': {'accuracy': 0.8157557933720012,\n",
       "  'precision': 0.8194771802014141,\n",
       "  'recall': 0.8183374344709532,\n",
       "  'f1': 0.8189069107649484,\n",
       "  'fbeta': 0.8192489771437139,\n",
       "  'log_loss': 6.250109083049342,\n",
       "  'AUC': 0.8178091556224192}}"
      ]
     },
     "execution_count": 38,
     "metadata": {},
     "output_type": "execute_result"
    }
   ],
   "source": [
    "dt_scores= get_performance_scores(y_test, dt_y_predict, dt_y_predict_proba)\n",
    "metrics_forest.update({\"DT\": dt_scores})\n",
    "metrics_forest"
   ]
  },
  {
   "cell_type": "markdown",
   "id": "26697bc5-9baa-4e32-8fca-6c20d65607ac",
   "metadata": {},
   "source": [
    "### K-Nearest Neighbors ###"
   ]
  },
  {
   "cell_type": "code",
   "execution_count": 39,
   "id": "b9255b6e-5417-4d34-94f4-70edea395a80",
   "metadata": {},
   "outputs": [],
   "source": [
    "X_train_scaled = scale(X_train)\n",
    "X_test_scaled = scale(X_test)\n",
    "\n",
    "kNN = KNeighborsClassifier()\n",
    "# Fit the classifier to the data.\n",
    "kNN.fit(X_train_scaled,y_train)\n",
    "kNN_y_predict = kNN.predict(X_test_scaled)\n",
    "\n",
    "kNN_y_predict_proba = kNN.predict_proba(X_test_scaled)"
   ]
  },
  {
   "cell_type": "code",
   "execution_count": 40,
   "id": "686efd5f-dfa0-49c1-8b00-74088b5bcbeb",
   "metadata": {},
   "outputs": [
    {
     "data": {
      "text/plain": [
       "{'RF': {'accuracy': 0.8707077308498761,\n",
       "  'precision': 0.8837222099933965,\n",
       "  'recall': 0.8590456831068792,\n",
       "  'f1': 0.8712092442901318,\n",
       "  'fbeta': 0.878674137138605,\n",
       "  'log_loss': 0.32595207700271234,\n",
       "  'AUC': 0.9453596399315363},\n",
       " 'LR': {'accuracy': 0.7513819677041637,\n",
       "  'precision': 0.7603724273113361,\n",
       "  'recall': 0.747031132983845,\n",
       "  'f1': 0.7536427415002699,\n",
       "  'fbeta': 0.7576661819917966,\n",
       "  'log_loss': 0.47229902673104324,\n",
       "  'AUC': 0.8487367641222184},\n",
       " 'GBM': {'accuracy': 0.758407537510552,\n",
       "  'precision': 0.7841684990163176,\n",
       "  'recall': 0.7249384829357013,\n",
       "  'f1': 0.7533911496553257,\n",
       "  'fbeta': 0.7715606567830384,\n",
       "  'log_loss': 0.4487749585480734,\n",
       "  'AUC': 0.8614323019622054},\n",
       " 'DT': {'accuracy': 0.8157557933720012,\n",
       "  'precision': 0.8194771802014141,\n",
       "  'recall': 0.8183374344709532,\n",
       "  'f1': 0.8189069107649484,\n",
       "  'fbeta': 0.8192489771437139,\n",
       "  'log_loss': 6.250109083049342,\n",
       "  'AUC': 0.8178091556224192},\n",
       " 'kNN': {'accuracy': 0.830188165454892,\n",
       "  'precision': 0.8309425140792689,\n",
       "  'recall': 0.8366320744623944,\n",
       "  'f1': 0.8337775882290223,\n",
       "  'fbeta': 0.8320742269796344,\n",
       "  'log_loss': 0.8707911288901065,\n",
       "  'AUC': 0.9081239328269091}}"
      ]
     },
     "execution_count": 40,
     "metadata": {},
     "output_type": "execute_result"
    }
   ],
   "source": [
    "kNN_scores= get_performance_scores(y_test, kNN_y_predict, kNN_y_predict_proba)\n",
    "metrics_forest.update({\"kNN\": kNN_scores})\n",
    "metrics_forest"
   ]
  },
  {
   "cell_type": "markdown",
   "id": "11fc77a0-4f4b-4597-a270-29126bccdfcd",
   "metadata": {},
   "source": [
    "### Evaluation ###"
   ]
  },
  {
   "cell_type": "code",
   "execution_count": 48,
   "id": "4ac7df0b-b203-47d9-8bd0-6a2fa9a8eedc",
   "metadata": {},
   "outputs": [
    {
     "name": "stdout",
     "output_type": "stream",
     "text": [
      "         RF        LR       GBM        DT       kNN     metric\n",
      "0  0.870708  0.751382  0.758408  0.815756  0.830188   accuracy\n",
      "1  0.883722  0.760372  0.784168  0.819477  0.830943  precision\n",
      "2  0.859046  0.747031  0.724938  0.818337  0.836632     recall\n",
      "3  0.871209  0.753643  0.753391  0.818907  0.833778         f1\n",
      "4  0.878674  0.757666  0.771561  0.819249  0.832074      fbeta\n"
     ]
    },
    {
     "data": {
      "text/html": [
       "<div>\n",
       "<style scoped>\n",
       "    .dataframe tbody tr th:only-of-type {\n",
       "        vertical-align: middle;\n",
       "    }\n",
       "\n",
       "    .dataframe tbody tr th {\n",
       "        vertical-align: top;\n",
       "    }\n",
       "\n",
       "    .dataframe thead th {\n",
       "        text-align: right;\n",
       "    }\n",
       "</style>\n",
       "<table border=\"1\" class=\"dataframe\">\n",
       "  <thead>\n",
       "    <tr style=\"text-align: right;\">\n",
       "      <th></th>\n",
       "      <th>RF</th>\n",
       "      <th>LR</th>\n",
       "      <th>GBM</th>\n",
       "      <th>DT</th>\n",
       "      <th>kNN</th>\n",
       "      <th>metric</th>\n",
       "    </tr>\n",
       "  </thead>\n",
       "  <tbody>\n",
       "    <tr>\n",
       "      <th>0</th>\n",
       "      <td>0.870708</td>\n",
       "      <td>0.751382</td>\n",
       "      <td>0.758408</td>\n",
       "      <td>0.815756</td>\n",
       "      <td>0.830188</td>\n",
       "      <td>accuracy</td>\n",
       "    </tr>\n",
       "    <tr>\n",
       "      <th>1</th>\n",
       "      <td>0.883722</td>\n",
       "      <td>0.760372</td>\n",
       "      <td>0.784168</td>\n",
       "      <td>0.819477</td>\n",
       "      <td>0.830943</td>\n",
       "      <td>precision</td>\n",
       "    </tr>\n",
       "    <tr>\n",
       "      <th>2</th>\n",
       "      <td>0.859046</td>\n",
       "      <td>0.747031</td>\n",
       "      <td>0.724938</td>\n",
       "      <td>0.818337</td>\n",
       "      <td>0.836632</td>\n",
       "      <td>recall</td>\n",
       "    </tr>\n",
       "    <tr>\n",
       "      <th>3</th>\n",
       "      <td>0.871209</td>\n",
       "      <td>0.753643</td>\n",
       "      <td>0.753391</td>\n",
       "      <td>0.818907</td>\n",
       "      <td>0.833778</td>\n",
       "      <td>f1</td>\n",
       "    </tr>\n",
       "    <tr>\n",
       "      <th>4</th>\n",
       "      <td>0.878674</td>\n",
       "      <td>0.757666</td>\n",
       "      <td>0.771561</td>\n",
       "      <td>0.819249</td>\n",
       "      <td>0.832074</td>\n",
       "      <td>fbeta</td>\n",
       "    </tr>\n",
       "    <tr>\n",
       "      <th>5</th>\n",
       "      <td>0.325952</td>\n",
       "      <td>0.472299</td>\n",
       "      <td>0.448775</td>\n",
       "      <td>6.250109</td>\n",
       "      <td>0.870791</td>\n",
       "      <td>log_loss</td>\n",
       "    </tr>\n",
       "    <tr>\n",
       "      <th>6</th>\n",
       "      <td>0.945360</td>\n",
       "      <td>0.848737</td>\n",
       "      <td>0.861432</td>\n",
       "      <td>0.817809</td>\n",
       "      <td>0.908124</td>\n",
       "      <td>AUC</td>\n",
       "    </tr>\n",
       "  </tbody>\n",
       "</table>\n",
       "</div>"
      ],
      "text/plain": [
       "         RF        LR       GBM        DT       kNN     metric\n",
       "0  0.870708  0.751382  0.758408  0.815756  0.830188   accuracy\n",
       "1  0.883722  0.760372  0.784168  0.819477  0.830943  precision\n",
       "2  0.859046  0.747031  0.724938  0.818337  0.836632     recall\n",
       "3  0.871209  0.753643  0.753391  0.818907  0.833778         f1\n",
       "4  0.878674  0.757666  0.771561  0.819249  0.832074      fbeta\n",
       "5  0.325952  0.472299  0.448775  6.250109  0.870791   log_loss\n",
       "6  0.945360  0.848737  0.861432  0.817809  0.908124        AUC"
      ]
     },
     "execution_count": 48,
     "metadata": {},
     "output_type": "execute_result"
    }
   ],
   "source": [
    "metrics_forest_df = pd.DataFrame(metrics_forest)\n",
    "metrics_forest_df[\"metric\"] = metrics_forest_df.index\n",
    "metrics_forest_df = metrics_forest_df.reset_index(drop = True)\n",
    "print(metrics_forest_df.head())\n",
    "metrics_forest_long = pd.melt(metrics_forest_df,\n",
    "                              id_vars = \"metric\",\n",
    "                              var_name = \"model\",\n",
    "                              value_vars = list(metrics_forest.keys()))\n",
    "metrics_forest_df"
   ]
  },
  {
   "cell_type": "code",
   "execution_count": 42,
   "id": "f0d1ce24-78f7-43a2-8dd4-6ceb43a7252a",
   "metadata": {},
   "outputs": [
    {
     "data": {
      "image/png": "[encoded data removed]",
      "text/plain": [
       "<Figure size 1080x576 with 6 Axes>"
      ]
     },
     "metadata": {
      "needs_background": "light"
     },
     "output_type": "display_data"
    }
   ],
   "source": [
    "fig, axes = plt.subplots(2, 3, figsize = (15, 8))\n",
    "for (metric, group), ax in zip(metrics_forest_long.groupby(\"metric\"), axes.flatten()):\n",
    "    group.plot(x = 'model', \n",
    "               y = 'value', \n",
    "               kind = 'bar', \n",
    "               color = [\"blue\", \"orange\"],\n",
    "               ax = ax, \n",
    "               title = metric,\n",
    "               legend = None,\n",
    "               sharex = True)\n",
    "    ax.xaxis.set_tick_params(rotation = 45)\n",
    "plt.tight_layout()\n",
    "plt.show()"
   ]
  },
  {
   "cell_type": "markdown",
   "id": "260796ef-ff29-48c7-992e-8b292413a6ea",
   "metadata": {},
   "source": [
    "##### Because our target (round winners) is balanced, we will use accuracy as our metric to select the best model. Random forest performed the best in this regard - as well as most other ones, #####\n",
    "#####  we will select it as our model for predicting round winners. #####"
   ]
  },
  {
   "cell_type": "code",
   "execution_count": 43,
   "id": "fc894a95-71d7-4c3b-890f-5546497dc99e",
   "metadata": {},
   "outputs": [
    {
     "data": {
      "text/plain": [
       "Text(0.5, 0, 'Relative Importance')"
      ]
     },
     "execution_count": 43,
     "metadata": {},
     "output_type": "execute_result"
    },
    {
     "data": {
      "image/png": "[encoded data removed]",
      "text/plain": [
       "<Figure size 432x288 with 1 Axes>"
      ]
     },
     "metadata": {
      "needs_background": "light"
     },
     "output_type": "display_data"
    }
   ],
   "source": [
    "rounds_features = rounds.drop('round_winner', axis = 1)\n",
    "features = rounds_features.columns\n",
    "importances = forest.feature_importances_\n",
    "indices = np.argsort(importances)[::-1]\n",
    "top_indices = indices[0:10][::-1]\n",
    "plt.figure(1)\n",
    "plt.title('Feature importance for Random Forest model')\n",
    "plt.barh(range(len(top_indices)), importances[top_indices], color = 'b', align = 'center')\n",
    "labels = features[top_indices]\n",
    "labels = [ '\\n'.join(wrap(l,13)) for l in labels ]\n",
    "plt.yticks(range(len(top_indices)), labels)\n",
    "plt.xlabel('Relative Importance')"
   ]
  },
  {
   "cell_type": "code",
   "execution_count": 45,
   "id": "67687787-d694-4462-a452-739bfe51b486",
   "metadata": {},
   "outputs": [
    {
     "data": {
      "text/plain": [
       "Text(0.5, 0, 'Relative Importance')"
      ]
     },
     "execution_count": 45,
     "metadata": {},
     "output_type": "execute_result"
    },
    {
     "data": {
      "image/png": "[encoded data removed]",
      "text/plain": [
       "<Figure size 432x288 with 1 Axes>"
      ]
     },
     "metadata": {
      "needs_background": "light"
     },
     "output_type": "display_data"
    }
   ],
   "source": [
    "rounds_features = rounds.drop('round_winner', axis = 1)\n",
    "features = rounds_features.columns\n",
    "importances = gbm.feature_importances_\n",
    "indices = np.argsort(importances)[::-1]\n",
    "top_indices = indices[0:10][::-1]\n",
    "plt.figure(1)\n",
    "plt.title('Feature importance for GBM')\n",
    "plt.barh(range(len(top_indices)), importances[top_indices], color = 'b', align = 'center')\n",
    "labels = features[top_indices]\n",
    "labels = [ '\\n'.join(wrap(l,13)) for l in labels ]\n",
    "plt.yticks(range(len(top_indices)), labels)\n",
    "plt.xlabel('Relative Importance')"
   ]
  },
  {
   "cell_type": "code",
   "execution_count": 46,
   "id": "f3e48def-69ce-4c9f-a2f0-36695eba08c4",
   "metadata": {},
   "outputs": [
    {
     "name": "stdout",
     "output_type": "stream",
     "text": [
      "[[15916  2113]\n",
      " [ 2635 16059]]\n"
     ]
    },
    {
     "data": {
      "image/png": "[encoded data removed]",
      "text/plain": [
       "<Figure size 432x288 with 1 Axes>"
      ]
     },
     "metadata": {
      "needs_background": "light"
     },
     "output_type": "display_data"
    }
   ],
   "source": [
    "cm_forest = confusion_matrix(y_test, forest_y_predict)\n",
    "print(cm_forest)\n",
    "\n",
    "plt.imshow(cm_forest, interpolation = 'nearest', cmap = plt.cm.Wistia)\n",
    "classNames = ['Negative', 'Positive']\n",
    "plt.title('Confusion Matrix - Test Data')\n",
    "plt.ylabel('True label')\n",
    "plt.xlabel('Predicted label')\n",
    "tick_marks = np.arange(len(classNames))\n",
    "plt.xticks(tick_marks, classNames, rotation = 45)\n",
    "plt.yticks(tick_marks, classNames)\n",
    "s = [['TN', 'FP'], ['FN', 'TP']]\n",
    "for i in range(2):\n",
    "    for j in range(2):\n",
    "        plt.text(j,i, str(s[i][j]) + \" = \" + str(cm_forest[i][j]))"
   ]
  },
  {
   "cell_type": "code",
   "execution_count": 50,
   "id": "fe6b1229-ca84-4994-b331-97b763b7fdba",
   "metadata": {},
   "outputs": [
    {
     "name": "stderr",
     "output_type": "stream",
     "text": [
      "C:\\Users\\cokeo\\anaconda3\\lib\\site-packages\\sklearn\\utils\\deprecation.py:87: FutureWarning: Function plot_roc_curve is deprecated; Function :func:`plot_roc_curve` is deprecated in 1.0 and will be removed in 1.2. Use one of the class methods: :meth:`sklearn.metric.RocCurveDisplay.from_predictions` or :meth:`sklearn.metric.RocCurveDisplay.from_estimator`.\n",
      "  warnings.warn(msg, category=FutureWarning)\n"
     ]
    },
    {
     "data": {
      "image/png": "[encoded data removed]",
      "text/plain": [
       "<Figure size 432x288 with 1 Axes>"
      ]
     },
     "metadata": {
      "needs_background": "light"
     },
     "output_type": "display_data"
    },
    {
     "data": {
      "image/png": "[encoded data removed]",
      "text/plain": [
       "<Figure size 432x288 with 1 Axes>"
      ]
     },
     "metadata": {
      "needs_background": "light"
     },
     "output_type": "display_data"
    }
   ],
   "source": [
    "# Store FPR, TPR, and threshold as variables.\n",
    "fpr, tpr, threshold = metrics.roc_curve(y_test, forest_y_predict)\n",
    "# Store the AUC.\n",
    "roc_auc = metrics.auc(fpr, tpr)\n",
    "# Plot ROC\n",
    "plt.title('Receiver Operating Characteristic')\n",
    "plt.plot(fpr, tpr, 'b', label = 'AUC = %0.2f' % roc_auc)\n",
    "plt.legend(loc = 'lower right')\n",
    "plt.plot([0, 1], [0, 1],'r--')\n",
    "plt.xlim([0, 1])\n",
    "plt.ylim([0, 1])\n",
    "plt.ylabel('True Positive Rate')\n",
    "plt.xlabel('False Positive Rate')\n",
    "plt.show()\n"
   ]
  },
  {
   "cell_type": "code",
   "execution_count": null,
   "id": "2f7f906a-0e11-4f37-b13e-c96789871986",
   "metadata": {},
   "outputs": [
    {
     "name": "stderr",
     "output_type": "stream",
     "text": [
      "C:\\Users\\cokeo\\anaconda3\\lib\\site-packages\\sklearn\\utils\\deprecation.py:87: FutureWarning: Function plot_roc_curve is deprecated; Function :func:`plot_roc_curve` is deprecated in 1.0 and will be removed in 1.2. Use one of the class methods: :meth:`sklearn.metric.RocCurveDisplay.from_predictions` or :meth:`sklearn.metric.RocCurveDisplay.from_estimator`.\n",
      "  warnings.warn(msg, category=FutureWarning)\n"
     ]
    },
    {
     "data": {
      "image/png": "[encoded data removed]",
      "text/plain": [
       "<Figure size 432x288 with 1 Axes>"
      ]
     },
     "metadata": {
      "needs_background": "light"
     },
     "output_type": "display_data"
    },
    {
     "data": {
      "image/png": "[encoded data removed]",
      "text/plain": [
       "<Figure size 432x288 with 1 Axes>"
      ]
     },
     "metadata": {
      "needs_background": "light"
     },
     "output_type": "display_data"
    }
   ],
   "source": [
    "plt.title('Receiver Operating Characteristic')\n",
    "rf_roc = metrics.plot_roc_curve(forest,\n",
    "                                   X_test,\n",
    "                                   y_test,\n",
    "                                   name = \"RF\")"
   ]
  }
 ],
 "metadata": {
  "kernelspec": {
   "display_name": "Python 3 (ipykernel)",
   "language": "python",
   "name": "python3"
  },
  "language_info": {
   "codemirror_mode": {
    "name": "ipython",
    "version": 3
   },
   "file_extension": ".py",
   "mimetype": "text/x-python",
   "name": "python",
   "nbconvert_exporter": "python",
   "pygments_lexer": "ipython3",
   "version": "3.9.12"
  }
 },
 "nbformat": 4,
 "nbformat_minor": 5
}
